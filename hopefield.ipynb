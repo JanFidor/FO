{
 "cells": [
  {
   "cell_type": "code",
   "execution_count": 6,
   "metadata": {},
   "outputs": [
    {
     "name": "stdout",
     "output_type": "stream",
     "text": [
      "start to fetch mnist_784 data from openml.org\n",
      "finish to fetch mnist_784 data from openml.org\n"
     ]
    }
   ],
   "source": [
    "import mnist\n",
    "import hopefield\n",
    "fetch = mnist.fetch_minist_for_hopfield(size=5, error_rate=0.14)    \n",
    "bias = 60\n",
    "hopefield.save_hopfield__mnist_prediction(fetch=fetch, bias=bias, sync=False)"
   ]
  }
 ],
 "metadata": {
  "kernelspec": {
   "display_name": "generative_playground",
   "language": "python",
   "name": "python3"
  },
  "language_info": {
   "codemirror_mode": {
    "name": "ipython",
    "version": 3
   },
   "file_extension": ".py",
   "mimetype": "text/x-python",
   "name": "python",
   "nbconvert_exporter": "python",
   "pygments_lexer": "ipython3",
   "version": "3.10.14"
  }
 },
 "nbformat": 4,
 "nbformat_minor": 2
}
